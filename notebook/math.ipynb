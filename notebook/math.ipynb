{
 "cells": [
  {
   "cell_type": "code",
   "execution_count": 1,
   "id": "2ee1aa4b-fb52-41ac-9098-a423d0e5e306",
   "metadata": {},
   "outputs": [
    {
     "name": "stdout",
     "output_type": "stream",
     "text": [
      "101 110.27249332394145 -880.1488446040403 -880.1488446040403\n",
      "110.27249332394145 110.09940550396763 16.742087677987 16.742087677987\n",
      "110.09940550396763 110.1019211898841 -0.24692095468344633 -0.24692095468344633\n",
      "110.1019211898841 110.1019218063947 -6.049725379853044e-05 -6.049725379853044e-05\n",
      "110.1019218063947 110.10192180639244 2.219167072325945e-10 2.219167072325945e-10\n",
      "110.10192180639244 110.10192180639244 0.0 0.0\n"
     ]
    },
    {
     "data": {
      "text/plain": [
       "(110.10192180639244, 6)"
      ]
     },
     "execution_count": 1,
     "metadata": {},
     "output_type": "execute_result"
    }
   ],
   "source": [
    "# xy = (w + (1 - w)z)v^2\n",
    "# z = 4xy / (x + y)^2\n",
    "# 0 <= w <= 1\n",
    "\n",
    "def secant(f, x0, x1):\n",
    "    f0 = f(x0)\n",
    "    for i in range(100):\n",
    "        f1 = f(x1)\n",
    "        if f0 == 0 or f0 == f1:\n",
    "            return (x0, i)\n",
    "\n",
    "        x2 = x1 - f1 * (x1 - x0) / (f1 - f0)\n",
    "        x0, x1 = x1, x2\n",
    "        f0 = f1\n",
    "        print(x0, x1, f0, f1)\n",
    "    assert False\n",
    "\n",
    "def f(x, y, w, v2):\n",
    "    p = x * y\n",
    "    z = 4 * p / (x + y) ** 2\n",
    "    return p - (w + (1 - w) * z) * v2\n",
    "\n",
    "def f_v2(x, y, w):\n",
    "    p = x * y\n",
    "    z = 4 * p / (x + y) ** 2\n",
    "    return p / (w + (1 - w) * z)\n",
    "\n",
    "def test_f(x):\n",
    "    y = 90\n",
    "    w = 0.1\n",
    "    v2 = 100 * 100\n",
    "    return f(x, y, w, v2)\n",
    "\n",
    "secant(test_f, 100, 101)"
   ]
  },
  {
   "cell_type": "code",
   "execution_count": null,
   "id": "1e7392b4-da99-4a85-a337-4eeb573e5b68",
   "metadata": {},
   "outputs": [],
   "source": []
  }
 ],
 "metadata": {
  "kernelspec": {
   "display_name": "Python 3 (ipykernel)",
   "language": "python",
   "name": "python3"
  },
  "language_info": {
   "codemirror_mode": {
    "name": "ipython",
    "version": 3
   },
   "file_extension": ".py",
   "mimetype": "text/x-python",
   "name": "python",
   "nbconvert_exporter": "python",
   "pygments_lexer": "ipython3",
   "version": "3.12.4"
  }
 },
 "nbformat": 4,
 "nbformat_minor": 5
}
