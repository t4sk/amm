{
 "cells": [
  {
   "cell_type": "code",
   "execution_count": 2,
   "id": "2ee1aa4b-fb52-41ac-9098-a423d0e5e306",
   "metadata": {},
   "outputs": [
    {
     "name": "stdout",
     "output_type": "stream",
     "text": [
      "101 111.27786935022122 -127950840 -127950840\n",
      "111.27786935022122 109.85606279894556 20542011.352368116 20542011.352368116\n",
      "109.85606279894556 109.99789109825335 -2276162.5285339355 -2276162.5285339355\n",
      "109.99789109825335 110.00000352336883 -33404.18711566925 -33404.18711566925\n",
      "110.00000352336883 109.99999999991387 55.8101646900177 55.8101646900177\n",
      "109.99999999991387 109.99999999999997 -0.001363992691040039 -0.001363992691040039\n",
      "109.99999999999997 110.00000000000001 -7.152557373046875e-07 -7.152557373046875e-07\n",
      "110.00000000000001 110.00000000000001 0.0 0.0\n"
     ]
    },
    {
     "data": {
      "text/plain": [
       "(110.00000000000001, 8)"
      ]
     },
     "execution_count": 2,
     "metadata": {},
     "output_type": "execute_result"
    }
   ],
   "source": [
    "def secant(f, x0, x1):\n",
    "    f0 = f(x0)\n",
    "    for i in range(100):\n",
    "        f1 = f(x1)\n",
    "        if f0 == 0 or f0 == f1:\n",
    "            return (x0, i)\n",
    "\n",
    "        x2 = x1 - f1 * (x1 - x0) / (f1 - f0)\n",
    "        x0, x1 = x1, x2\n",
    "        f0 = f1\n",
    "        print(x0, x1, f0, f1)\n",
    "    assert False\n",
    "\n",
    "def f(x, y, w, dw, v2):\n",
    "    p = x * y\n",
    "    s2 = (x + y) ** 2\n",
    "    l = p * (w + 4 * dw) * s2\n",
    "    r = v2 * (w * s2 + 16 * dw * p)\n",
    "    return l - r\n",
    "\n",
    "def test_f(x):\n",
    "    y = 90\n",
    "    w = 0\n",
    "    dw = 1 - w\n",
    "    v2 = 100 * 100\n",
    "    return f(x, y, w, dw, v2)\n",
    "\n",
    "secant(test_f, 100, 101)"
   ]
  },
  {
   "cell_type": "code",
   "execution_count": null,
   "id": "1e7392b4-da99-4a85-a337-4eeb573e5b68",
   "metadata": {},
   "outputs": [],
   "source": []
  }
 ],
 "metadata": {
  "kernelspec": {
   "display_name": "Python 3 (ipykernel)",
   "language": "python",
   "name": "python3"
  },
  "language_info": {
   "codemirror_mode": {
    "name": "ipython",
    "version": 3
   },
   "file_extension": ".py",
   "mimetype": "text/x-python",
   "name": "python",
   "nbconvert_exporter": "python",
   "pygments_lexer": "ipython3",
   "version": "3.10.7"
  }
 },
 "nbformat": 4,
 "nbformat_minor": 5
}
